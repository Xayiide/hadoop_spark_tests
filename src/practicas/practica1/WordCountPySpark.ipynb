{
 "cells": [
  {
   "cell_type": "code",
   "execution_count": 1,
   "metadata": {},
   "outputs": [],
   "source": [
    "import findspark\n",
    "findspark.init()\n",
    "import pyspark\n",
    "from pyspark import SparkContext\n",
    "sc = SparkContext(\"local[*]\", \"WordCountPySpark\")"
   ]
  },
  {
   "cell_type": "code",
   "execution_count": 2,
   "metadata": {},
   "outputs": [
    {
     "name": "stdout",
     "output_type": "stream",
     "text": [
      "La palabra más repetida es 'que', con 4 apariciones\n"
     ]
    }
   ],
   "source": [
    "rdd    = sc.textFile(\"fichero1.txt\")\n",
    "lineas = rdd.flatMap(lambda linea: linea.split(\" \"))\n",
    "palmap = lineas.map(lambda pal: (pal, 1))\n",
    "palRed = palmap.reduceByKey(lambda x, y: x + y)\n",
    "limpio = palRed.filter(lambda x: x[0] != '') # Quitar palabras vacías\n",
    "cuenta = limpio.reduce(lambda x, y: x if x[1] >= y[1] else y) # Elegir la máxima\n",
    "print(\"La palabra más repetida es '{}', con {} apariciones\".format(cuenta[0], cuenta[1]))"
   ]
  }
 ],
 "metadata": {
  "kernelspec": {
   "display_name": "Python 3",
   "language": "python",
   "name": "python3"
  },
  "language_info": {
   "codemirror_mode": {
    "name": "ipython",
    "version": 3
   },
   "file_extension": ".py",
   "mimetype": "text/x-python",
   "name": "python",
   "nbconvert_exporter": "python",
   "pygments_lexer": "ipython3",
   "version": "3.7.1"
  }
 },
 "nbformat": 4,
 "nbformat_minor": 4
}
