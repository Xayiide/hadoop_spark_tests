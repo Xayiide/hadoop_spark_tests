{
 "cells": [
  {
   "cell_type": "code",
   "execution_count": 1,
   "metadata": {},
   "outputs": [],
   "source": [
    "import findspark\n",
    "findspark.init()\n",
    "import pyspark\n",
    "from pyspark import SparkContext"
   ]
  },
  {
   "cell_type": "code",
   "execution_count": 2,
   "metadata": {},
   "outputs": [],
   "source": [
    "sc = SparkContext(\"local[*]\", \"AppMaximo\")"
   ]
  },
  {
   "cell_type": "code",
   "execution_count": 3,
   "metadata": {},
   "outputs": [],
   "source": [
    "rdd1 = sc.textFile(\"../../../datos/pg2000.txt\")\n",
    "# ['En un lugar de la mancha ...', ''] o una lista por el estilo"
   ]
  },
  {
   "cell_type": "code",
   "execution_count": 4,
   "metadata": {},
   "outputs": [],
   "source": [
    "lineas = rdd1.flatMap(lambda linea: linea.split(\" \"))\n",
    "# ['En', 'un', 'lugar', .., '']"
   ]
  },
  {
   "cell_type": "code",
   "execution_count": 5,
   "metadata": {},
   "outputs": [],
   "source": [
    "palmap = lineas.map(lambda pal: (pal, 1))\n",
    "# [('En', 1), ('un', 1), ('lugar', 1), ..., ('lugar', 1), ...] # Cada palabra individual en\n",
    "#  el formato ('palabra', 1). Si se repiten hay varias apariciones."
   ]
  },
  {
   "cell_type": "code",
   "execution_count": 6,
   "metadata": {},
   "outputs": [],
   "source": [
    "palRed = palmap.reduceByKey(lambda x, y: x + y)\n",
    "# [('En', 9812), ('un', 12122), ('lugar', 6775), ...] Ahora sí se suman\n",
    "#palRed.collect()"
   ]
  },
  {
   "cell_type": "code",
   "execution_count": 7,
   "metadata": {},
   "outputs": [],
   "source": [
    "limpio = palRed.filter(lambda x: x[0] != '') # Quitar palabras vacías"
   ]
  },
  {
   "cell_type": "code",
   "execution_count": 8,
   "metadata": {},
   "outputs": [],
   "source": [
    "cuenta = limpio.reduce(lambda x, y: x if x[1] >= y[1] else y) # Elegir la máxima"
   ]
  },
  {
   "cell_type": "code",
   "execution_count": 9,
   "metadata": {},
   "outputs": [
    {
     "name": "stdout",
     "output_type": "stream",
     "text": [
      "La palabra más repetida es 'que', con 19429 apariciones\n"
     ]
    }
   ],
   "source": [
    "print(\"La palabra más repetida es '{}', con {} apariciones\".format(cuenta[0], cuenta[1]))"
   ]
  }
 ],
 "metadata": {
  "kernelspec": {
   "display_name": "Python 3",
   "language": "python",
   "name": "python3"
  },
  "language_info": {
   "codemirror_mode": {
    "name": "ipython",
    "version": 3
   },
   "file_extension": ".py",
   "mimetype": "text/x-python",
   "name": "python",
   "nbconvert_exporter": "python",
   "pygments_lexer": "ipython3",
   "version": "3.7.1"
  }
 },
 "nbformat": 4,
 "nbformat_minor": 4
}
