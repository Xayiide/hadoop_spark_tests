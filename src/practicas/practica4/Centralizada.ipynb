{
 "cells": [
  {
   "cell_type": "code",
   "execution_count": 1,
   "metadata": {},
   "outputs": [],
   "source": [
    "import numpy as np"
   ]
  },
  {
   "cell_type": "markdown",
   "metadata": {},
   "source": [
    "# Functions"
   ]
  },
  {
   "cell_type": "code",
   "execution_count": 2,
   "metadata": {},
   "outputs": [],
   "source": [
    "def readFile(filename):\n",
    "    data = np.loadtxt(filename)\n",
    "    X = data[:,:-1].copy()\n",
    "    y = data[:,-1].copy()\n",
    "    return X, y"
   ]
  },
  {
   "cell_type": "code",
   "execution_count": 52,
   "metadata": {},
   "outputs": [],
   "source": [
    "def standardizex(X):\n",
    "    m, n = np.shape(X)\n",
    "    mean = np.zeros([1,n])\n",
    "    std = np.zeros([1,n])\n",
    "    for j in range(n):\n",
    "        mean[0,j] = np.sum(X[:,j])/m\n",
    "        std[0,j] = np.sqrt(np.sum(np.power(X[:,j] - mean[0,j],2))/m)\n",
    "    print (X.shape,mean.shape,std.shape)\n",
    "    X_standardized = (X - mean[:,None])/std[:,None]\n",
    "    print (\"mean:\",mean[:,None].shape,mean.shape,mean[None,:].shape,mean[None].shape)\n",
    "    print (X_standardized.shape)\n",
    "    return X_standardized[0]\n",
    "\n",
    "def standardize(X):\n",
    "    m, n = np.shape(X)\n",
    "    mean = np.zeros([1,n])\n",
    "    std = np.zeros([1,n])\n",
    "    mean= np.sum(X,axis=0)/m\n",
    "    std=np.sqrt(np.sum (np.power(np.subtract(X,mean[None]),2),axis=0)/float(m))\n",
    "    \n",
    "    print (X.shape,mean.shape,std.shape)\n",
    "    X_standardized = (X - mean)/std\n",
    "    print (X_standardized.shape)\n",
    "    print (\"mena std\",np.mean (X_standardized,axis=0),np.std (X_standardized,axis=0))\n",
    "    return X_standardized"
   ]
  },
  {
   "cell_type": "code",
   "execution_count": 4,
   "metadata": {},
   "outputs": [],
   "source": [
    "def predict(w, b, X):\n",
    "    sigmoid_input = np.matmul(X,w)+b\n",
    "    sigmoid_out = 1 / (1 + np.exp(-sigmoid_input))\n",
    "    return sigmoid_out > 0.5"
   ]
  },
  {
   "cell_type": "code",
   "execution_count": 5,
   "metadata": {},
   "outputs": [],
   "source": [
    "def sigmoid(w, b, X):\n",
    "    sigmoid_input = np.matmul(X,w)+b\n",
    "    sigmoid_out = 1 / (1 + np.exp(-sigmoid_input))\n",
    "    return sigmoid_out"
   ]
  },
  {
   "cell_type": "code",
   "execution_count": 6,
   "metadata": {},
   "outputs": [],
   "source": [
    "def costFunction(y, y_pred, w, m, lambda_reg):\n",
    "    epsilon = 1e-5 \n",
    "    return (-1/m)*np.sum(y*np.log(y_pred + epsilon) + (1-y)*np.log(1-y_pred + epsilon)) + lambda_reg/(2*m)*np.sum(np.power(w,2))"
   ]
  },
  {
   "cell_type": "code",
   "execution_count": 7,
   "metadata": {},
   "outputs": [],
   "source": [
    "def accuracy(w, b, X, y):\n",
    "    m, n = np.shape(X)\n",
    "    y_pred = predict(w, b, X)\n",
    "    correct = 0\n",
    "    for i in range(m):\n",
    "        if y[i] == y_pred[i]:\n",
    "            correct += 1\n",
    "    return correct / float(m)"
   ]
  },
  {
   "cell_type": "code",
   "execution_count": 8,
   "metadata": {},
   "outputs": [],
   "source": [
    "def train(X, y, iterations, learning_rate, lambda_reg):\n",
    "    m, n = np.shape(X)\n",
    "    np.random.seed(6)\n",
    "    w = np.random.random([n,])\n",
    "    b = 0\n",
    "    dw = np.zeros([n,])\n",
    "    db = 0\n",
    "    for i in range(iterations):\n",
    "        y_pred = sigmoid(w, b, X)\n",
    "        \n",
    "        for j in range(n):\n",
    "            dw[j] = (1/m)*np.sum((y_pred-y)*X[:,j]) + (lambda_reg/m)*w[j]\n",
    "        db = 1/m*np.sum(y_pred-y)\n",
    "        w = w - learning_rate*dw\n",
    "        b = b - learning_rate*db\n",
    "        print(str(i) + \". cost function value:\"+ str(costFunction(y, y_pred, w, m, lambda_reg)))\n",
    "    return w, b"
   ]
  },
  {
   "cell_type": "markdown",
   "metadata": {},
   "source": [
    "# Test"
   ]
  },
  {
   "cell_type": "code",
   "execution_count": 53,
   "metadata": {},
   "outputs": [],
   "source": [
    "X, y = readFile(\"./spam.data\")"
   ]
  },
  {
   "cell_type": "code",
   "execution_count": 54,
   "metadata": {},
   "outputs": [
    {
     "name": "stdout",
     "output_type": "stream",
     "text": [
      "(4601, 57) (4601,)\n",
      "(4601, 57) (57,) (57,)\n",
      "(4601, 57)\n",
      "mena std [ 3.35123993e-15  1.99413043e-15 -2.33262659e-15 -1.03939835e-15\n",
      "  1.00006940e-15  6.33107032e-15  6.49918430e-15  4.43992690e-15\n",
      " -7.51204262e-15 -2.47694835e-16  2.85610363e-15 -1.26711653e-15\n",
      " -8.35961019e-16  2.42637179e-15  8.47731651e-15 -4.24464250e-15\n",
      "  1.23998713e-14  6.34458315e-15 -9.50482176e-16 -6.20862245e-15\n",
      " -4.14405041e-15  1.22613769e-15 -1.46428789e-14 -5.78574354e-15\n",
      " -4.20468316e-15 -5.58475240e-15  3.90641177e-15 -9.57829773e-16\n",
      "  2.51996014e-15  3.86619906e-15 -3.40462764e-16  2.50136795e-15\n",
      " -1.54061844e-15  4.28554292e-15  3.86863619e-15 -1.43500126e-15\n",
      "  2.36956968e-17  1.56783410e-15  7.21258885e-16  3.47436345e-16\n",
      " -4.08533600e-16  2.46110698e-15 -5.40693815e-16 -4.45249865e-15\n",
      "  3.60246982e-15 -9.28113632e-16  1.44041846e-15  3.10416644e-15\n",
      "  4.64096630e-15  1.87500043e-15 -1.37155133e-15 -4.64296306e-15\n",
      "  7.55248456e-15  1.65320316e-15  5.85183572e-17  6.06737728e-16\n",
      "  8.89191881e-17] [1. 1. 1. 1. 1. 1. 1. 1. 1. 1. 1. 1. 1. 1. 1. 1. 1. 1. 1. 1. 1. 1. 1. 1.\n",
      " 1. 1. 1. 1. 1. 1. 1. 1. 1. 1. 1. 1. 1. 1. 1. 1. 1. 1. 1. 1. 1. 1. 1. 1.\n",
      " 1. 1. 1. 1. 1. 1. 1. 1. 1.]\n",
      "(4601, 57) (4601,)\n"
     ]
    }
   ],
   "source": [
    "print (X.shape,y.shape)\n",
    "X = standardize(X)\n",
    "print (X.shape,y.shape)"
   ]
  },
  {
   "cell_type": "code",
   "execution_count": 55,
   "metadata": {},
   "outputs": [
    {
     "name": "stdout",
     "output_type": "stream",
     "text": [
      "0. cost function value:1.532144294487638\n",
      "1. cost function value:1.3822992402553012\n",
      "2. cost function value:1.241662882542011\n",
      "3. cost function value:1.1113736616762107\n",
      "4. cost function value:0.9914610141712917\n",
      "5. cost function value:0.8811560132937748\n",
      "6. cost function value:0.7832867294934834\n",
      "7. cost function value:0.7006146175658234\n",
      "8. cost function value:0.6257586216190414\n",
      "9. cost function value:0.5650580228094488\n",
      "10. cost function value:0.522857155865962\n",
      "11. cost function value:0.4971706679944604\n",
      "12. cost function value:0.4773183228883263\n",
      "13. cost function value:0.4599434115092757\n",
      "14. cost function value:0.44438792838326663\n",
      "15. cost function value:0.43032413716492124\n",
      "16. cost function value:0.4175236421820673\n",
      "17. cost function value:0.40580683325735123\n",
      "18. cost function value:0.39503017893501674\n",
      "19. cost function value:0.3850826220768245\n",
      "20. cost function value:0.375880327673129\n",
      "21. cost function value:0.36735851103727135\n",
      "22. cost function value:0.3594637092734597\n",
      "23. cost function value:0.35214851090989835\n",
      "24. cost function value:0.3453688438293851\n",
      "25. cost function value:0.33908327586556675\n",
      "26. cost function value:0.33325333094823084\n",
      "27. cost function value:0.3278438506955277\n",
      "28. cost function value:0.3228230291210437\n",
      "29. cost function value:0.31816218600790397\n",
      "30. cost function value:0.3138353718477469\n",
      "31. cost function value:0.30981883348440026\n",
      "32. cost function value:0.3060904103670368\n",
      "33. cost function value:0.3026290052018293\n",
      "34. cost function value:0.2994142705713099\n",
      "35. cost function value:0.2964265618505675\n",
      "36. cost function value:0.29364709361491437\n",
      "37. cost function value:0.2910581748424591\n",
      "38. cost function value:0.2886434095236438\n",
      "39. cost function value:0.2863878035381915\n",
      "acc: 0.897196261682243\n"
     ]
    }
   ],
   "source": [
    "w, b = train(X, y, 40, 0.5, 0.000002)\n",
    "acc = accuracy(w, b, X, y)\n",
    "print(\"acc:\", acc)"
   ]
  },
  {
   "cell_type": "code",
   "execution_count": null,
   "metadata": {},
   "outputs": [],
   "source": []
  }
 ],
 "metadata": {
  "kernelspec": {
   "display_name": "Python 3",
   "language": "python",
   "name": "python3"
  },
  "language_info": {
   "codemirror_mode": {
    "name": "ipython",
    "version": 3
   },
   "file_extension": ".py",
   "mimetype": "text/x-python",
   "name": "python",
   "nbconvert_exporter": "python",
   "pygments_lexer": "ipython3",
   "version": "3.7.1"
  }
 },
 "nbformat": 4,
 "nbformat_minor": 4
}
