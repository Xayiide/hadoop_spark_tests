{
 "cells": [
  {
   "cell_type": "code",
   "execution_count": 1,
   "metadata": {},
   "outputs": [],
   "source": [
    "import numpy as np"
   ]
  },
  {
   "cell_type": "markdown",
   "metadata": {},
   "source": [
    "# Functions"
   ]
  },
  {
   "cell_type": "code",
   "execution_count": 2,
   "metadata": {},
   "outputs": [],
   "source": [
    "def readFile(filename):\n",
    "    data = np.loadtxt(filename, delimiter=',')\n",
    "    X = data[:,:-1].copy()\n",
    "    y = data[:,-1].copy()\n",
    "    return X, y"
   ]
  },
  {
   "cell_type": "code",
   "execution_count": 3,
   "metadata": {},
   "outputs": [],
   "source": [
    "\"\"\"\n",
    "def standardizex(X):\n",
    "    m, n = np.shape(X)\n",
    "    mean = np.zeros([1,n])\n",
    "    std = np.zeros([1,n])\n",
    "    for j in range(n):\n",
    "        mean[0,j] = np.sum(X[:,j])/m\n",
    "        std[0,j] = np.sqrt(np.sum(np.power(X[:,j] - mean[0,j],2))/m)\n",
    "    print (X.shape,mean.shape,std.shape)\n",
    "    X_standardized = (X - mean[:,None])/std[:,None]\n",
    "    print (\"mean:\",mean[:,None].shape,mean.shape,mean[None,:].shape,mean[None].shape)\n",
    "    print (X_standardized.shape)\n",
    "    return X_standardized[0]\n",
    "\"\"\"\n",
    "\n",
    "def standardize(X):\n",
    "    m, n = np.shape(X) # m = 1.000.000; n = 11\n",
    "    mean = np.zeros([1,n])\n",
    "    std = np.zeros([1,n])\n",
    "    mean= np.sum(X,axis=0)/m\n",
    "    std=np.sqrt(np.sum (np.power(np.subtract(X,mean[None]),2),axis=0)/float(m))\n",
    "    \n",
    "    print (X.shape,mean.shape,std.shape)\n",
    "    X_standardized = (X - mean)/std\n",
    "    print (X_standardized.shape)\n",
    "    print (\"mena std\",np.mean (X_standardized,axis=0),np.std (X_standardized,axis=0))\n",
    "    return X_standardized"
   ]
  },
  {
   "cell_type": "code",
   "execution_count": 4,
   "metadata": {},
   "outputs": [],
   "source": [
    "def predict(w, b, X):\n",
    "    sigmoid_input = np.matmul(X,w)+b\n",
    "    sigmoid_out = 1 / (1 + np.exp(-sigmoid_input))\n",
    "    return sigmoid_out > 0.5"
   ]
  },
  {
   "cell_type": "code",
   "execution_count": 5,
   "metadata": {},
   "outputs": [],
   "source": [
    "def sigmoid(w, b, X):\n",
    "    sigmoid_input = np.matmul(X,w)+b\n",
    "    sigmoid_out = 1 / (1 + np.exp(-sigmoid_input))\n",
    "    return sigmoid_out"
   ]
  },
  {
   "cell_type": "code",
   "execution_count": 6,
   "metadata": {},
   "outputs": [],
   "source": [
    "def costFunction(y, y_pred, w, m, lambda_reg):\n",
    "    epsilon = 1e-5 \n",
    "    return (-1/m)*np.sum(y*np.log(y_pred + epsilon) + (1-y)*np.log(1-y_pred + epsilon)) + lambda_reg/(2*m)*np.sum(np.power(w,2))"
   ]
  },
  {
   "cell_type": "code",
   "execution_count": 7,
   "metadata": {},
   "outputs": [],
   "source": [
    "def accuracy(w, b, X, y):\n",
    "    m, n = np.shape(X)\n",
    "    y_pred = predict(w, b, X)\n",
    "    correct = 0\n",
    "    for i in range(m):\n",
    "        if y[i] == y_pred[i]:\n",
    "            correct += 1\n",
    "    return correct / float(m)"
   ]
  },
  {
   "cell_type": "code",
   "execution_count": 8,
   "metadata": {},
   "outputs": [],
   "source": [
    "def train(X, y, iterations, learning_rate, lambda_reg):\n",
    "    m, n = np.shape(X)\n",
    "    np.random.seed(6)\n",
    "    w = np.random.random([n,])\n",
    "    b = 0\n",
    "    dw = np.zeros([n,])\n",
    "    db = 0\n",
    "    for i in range(iterations):\n",
    "        y_pred = sigmoid(w, b, X)\n",
    "        \n",
    "        for j in range(n):\n",
    "            dw[j] = (1/m)*np.sum((y_pred-y)*X[:,j]) + (lambda_reg/m)*w[j] # Coste\n",
    "        db = 1/m*np.sum(y_pred-y)\n",
    "        w = w - learning_rate*dw # Diapo 18\n",
    "        b = b - learning_rate*db\n",
    "        print(str(i) + \". cost function value:\"+ str(costFunction(y, y_pred, w, m, lambda_reg)))\n",
    "    return w, b"
   ]
  },
  {
   "cell_type": "markdown",
   "metadata": {},
   "source": [
    "# Test"
   ]
  },
  {
   "cell_type": "code",
   "execution_count": 9,
   "metadata": {
    "scrolled": true
   },
   "outputs": [],
   "source": [
    "X, y = readFile(\"../../../datos/botnet_tot_syn_l.csv\")"
   ]
  },
  {
   "cell_type": "code",
   "execution_count": 10,
   "metadata": {},
   "outputs": [
    {
     "name": "stdout",
     "output_type": "stream",
     "text": [
      "(1000000, 11) (1000000,)\n",
      "(1000000, 11) (11,) (11,)\n",
      "(1000000, 11)\n",
      "mena std [-6.16018147e-12  5.56872640e-13 -2.96104913e-12  1.11630100e-12\n",
      "  8.05058467e-14 -2.31109477e-12 -5.81393492e-13 -3.18123951e-12\n",
      " -3.46714788e-13 -2.47027160e-12  4.12380815e-12] [1. 1. 1. 1. 1. 1. 1. 1. 1. 1. 1.]\n",
      "(1000000, 11) (1000000,)\n"
     ]
    }
   ],
   "source": [
    "print (X.shape,y.shape)\n",
    "X = standardize(X)\n",
    "print (X.shape,y.shape)"
   ]
  },
  {
   "cell_type": "code",
   "execution_count": 11,
   "metadata": {},
   "outputs": [
    {
     "name": "stdout",
     "output_type": "stream",
     "text": [
      "0. cost function value:1.0806564762364792\n",
      "1. cost function value:0.8612484482977357\n",
      "2. cost function value:0.7013177105814158\n",
      "3. cost function value:0.5872546677935642\n",
      "4. cost function value:0.5060611754671706\n",
      "5. cost function value:0.4475228927661015\n",
      "6. cost function value:0.4044264812458692\n",
      "7. cost function value:0.3719276432882331\n",
      "8. cost function value:0.3468220444232312\n",
      "9. cost function value:0.326981371478495\n",
      "10. cost function value:0.3109724803782283\n",
      "11. cost function value:0.29781280732476084\n",
      "12. cost function value:0.286815404880832\n",
      "13. cost function value:0.2774904330671418\n",
      "14. cost function value:0.26948183465695363\n",
      "15. cost function value:0.2625260217926492\n",
      "16. cost function value:0.25642447832554477\n",
      "17. cost function value:0.25102528108506583\n",
      "18. cost function value:0.2462104250233885\n",
      "19. cost function value:0.24188698526765534\n",
      "20. cost function value:0.23798085627929244\n",
      "21. cost function value:0.23443224917561187\n",
      "22. cost function value:0.23119240680353148\n",
      "23. cost function value:0.2282211746210223\n",
      "24. cost function value:0.2254851814313512\n",
      "25. cost function value:0.22295646047585674\n",
      "26. cost function value:0.22061139249998035\n",
      "27. cost function value:0.2184298870349632\n",
      "28. cost function value:0.216394741906562\n",
      "29. cost function value:0.2144911375028716\n",
      "30. cost function value:0.21270623395441882\n",
      "31. cost function value:0.21102884764812757\n",
      "32. cost function value:0.20944918944416596\n",
      "33. cost function value:0.2079586512871285\n",
      "34. cost function value:0.2065496310756271\n",
      "35. cost function value:0.2052153880049334\n",
      "36. cost function value:0.20394992235448328\n",
      "37. cost function value:0.2027478750168182\n",
      "38. cost function value:0.20160444307141573\n",
      "39. cost function value:0.20051530847806964\n",
      "acc: 0.932304\n"
     ]
    }
   ],
   "source": [
    "w, b = train(X, y, 40, 0.5, 0.000002)\n",
    "acc = accuracy(w, b, X, y)\n",
    "print(\"acc:\", acc)"
   ]
  },
  {
   "cell_type": "code",
   "execution_count": null,
   "metadata": {},
   "outputs": [],
   "source": []
  }
 ],
 "metadata": {
  "kernelspec": {
   "display_name": "Python 3",
   "language": "python",
   "name": "python3"
  },
  "language_info": {
   "codemirror_mode": {
    "name": "ipython",
    "version": 3
   },
   "file_extension": ".py",
   "mimetype": "text/x-python",
   "name": "python",
   "nbconvert_exporter": "python",
   "pygments_lexer": "ipython3",
   "version": "3.7.1"
  }
 },
 "nbformat": 4,
 "nbformat_minor": 4
}
