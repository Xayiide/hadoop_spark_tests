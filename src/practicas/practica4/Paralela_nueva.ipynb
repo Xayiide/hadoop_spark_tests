{
 "cells": [
  {
   "cell_type": "code",
   "execution_count": 1,
   "metadata": {},
   "outputs": [],
   "source": [
    "import findspark\n",
    "findspark.init()\n",
    "import pyspark\n",
    "from pyspark import SparkContext\n",
    "import numpy as np\n",
    "import time\n",
    "\n",
    "# Variables globales con información para acelerar procesamiento\n",
    "g_filas = g_cols = 0 # Serán números (1.000.000 y 11 en este caso)\n",
    "\n",
    "ITER = 40\n",
    "APRN = 0.5"
   ]
  },
  {
   "cell_type": "code",
   "execution_count": 2,
   "metadata": {},
   "outputs": [
    {
     "name": "stdout",
     "output_type": "stream",
     "text": [
      "Tiempo transcurrido: 4.134044408798218 segundos.\n"
     ]
    }
   ],
   "source": [
    "# linea es un string de la forma: \"n0, n1, n2, ..., n10, r\" donde:\n",
    "#  nX es una propiedad del tráfico\n",
    "#  r  es su clasificación (1 si es botnet, 0 si no lo es)\n",
    "def formato_inicial(linea):\n",
    "    datos = np.asarray([float(i) for i in linea[:-1]])\n",
    "    resul = int(linea[-1])\n",
    "    return (datos, resul)\n",
    "\n",
    "# Devuelve un RDD de los datos del fichero fn.\n",
    "# Cada registro del RDD es una tupla (X, y)\n",
    "#  X: np.array de los datos.\n",
    "def readFile(fn):\n",
    "    global g_filas, g_cols\n",
    "    sc      = SparkContext(\"local[*]\", \"BotnetParalelaPruebas\")\n",
    "    todo    = sc.textFile(fn).map(lambda fila: fila.split(','))\n",
    "    ret     = todo.map(formato_inicial)\n",
    "    g_filas = todo.count()\n",
    "    g_cols  = len(ret.take(1)[0][0])\n",
    "    return ret\n",
    "\n",
    "t1  = time.time()\n",
    "rdd = readFile(\"../../../datos/botnet_tot_syn_l.csv\")\n",
    "t2  = time.time()\n",
    "print(\"Tiempo transcurrido: {} segundos.\".format(t2 - t1))"
   ]
  },
  {
   "cell_type": "code",
   "execution_count": 3,
   "metadata": {},
   "outputs": [
    {
     "name": "stdout",
     "output_type": "stream",
     "text": [
      "Tiempo medias: 83.86522245407104 s.\n",
      "Tiempo stdevs: 4.37181830406189 s.\n",
      "Tiempo normal: 1.1205673217773438e-05 s.\n",
      "Tiempo transcurrido: 88.23725152015686 segundos.\n"
     ]
    }
   ],
   "source": [
    "# rdd: RDD de 1.000.000 de registros (X, y)\n",
    "#  X es un array con 11 flotantes\n",
    "#  y es 1 ó 0\n",
    "# Devuelve un np.array con las medias de las 11 columnas\n",
    "def calcular_medias(rdd):\n",
    "    global g_filas\n",
    "    medias = np.asarray(rdd.reduce(lambda x, y: x + y)[0])/g_filas\n",
    "    return medias\n",
    "\n",
    "# rdd: RDD de 1.000.000 de registros (X, y)\n",
    "#  X es un array con 11 flotantes\n",
    "#  y es 1 ó 0\n",
    "# medias: np.array de las medias de las 11 columnas\n",
    "def calcular_stdev(rdd, medias):\n",
    "    global g_filas\n",
    "    parcial  = rdd.map(lambda x: (x[0]-medias)**2).reduce(lambda x, y: x + y)\n",
    "    varianza = parcial/g_filas\n",
    "    stdev    = np.sqrt(varianza)\n",
    "    return stdev\n",
    "\n",
    "# Toma por parámetro un RDD de 1.000.000 de registros.\n",
    "# Cada registro tiene la forma (X, y)\n",
    "#  X es un array con 11 flotantes\n",
    "#  y es 1 ó 0\n",
    "# Devuelve un RDD equivalente donde la X de cada tupla está\n",
    "# reescalada a N(0, 1) (media = 0, desv. est. = 1)\n",
    "def normalizar(rdd):\n",
    "    t1 = time.time()\n",
    "    medias = calcular_medias(rdd)\n",
    "    t2 = time.time()\n",
    "    stdevs = calcular_stdev(rdd, medias)\n",
    "    t3 = time.time()\n",
    "    normal = rdd.map(lambda x: ((x[0] - medias)/stdevs, x[1]))\n",
    "    t4 = time.time()\n",
    "    print(\"Tiempo medias: {} s.\".format(t2 - t1))\n",
    "    print(\"Tiempo stdevs: {} s.\".format(t3 - t2))\n",
    "    print(\"Tiempo normal: {} s.\".format(t4 - t3))\n",
    "    return normal\n",
    "    \n",
    "\n",
    "t1 = time.time()\n",
    "datos = normalizar(rdd)\n",
    "t2 = time.time()\n",
    "print(\"Tiempo transcurrido: {} segundos.\".format(t2 - t1))\n",
    "# La media tiene que ser ~0\n",
    "# La desviación estándar tiene que ser ~1\n",
    "\n",
    "# 1.2345e-05 = 0.000012345"
   ]
  },
  {
   "cell_type": "code",
   "execution_count": 4,
   "metadata": {},
   "outputs": [
    {
     "name": "stdout",
     "output_type": "stream",
     "text": [
      " +------------------------------- MEDIAS (~0) -----------------------------------+\n",
      "[4.38670935e-09 5.20124649e-08 1.23550534e-09 6.74973426e-12\n",
      " 2.34923008e-13 1.49440578e-12 1.23479691e-06 1.06153422e-06\n",
      " 1.29524385e-06 1.09851433e-06 9.45998204e-07]\n",
      " +------------------------------- STDEVS (~1) -----------------------------------+\n",
      "[1.         0.99999997 1.         1.         1.         1.\n",
      " 0.99999893 0.99999929 0.99999895 0.99999896 0.99999918]\n"
     ]
    }
   ],
   "source": [
    "comprobar_medias = calcular_medias(datos)\n",
    "comprobar_stdevs = calcular_stdev(datos, comprobar_medias)\n",
    "print(\" +------------------------------- MEDIAS (~0) -----------------------------------+\")\n",
    "print(comprobar_medias)\n",
    "print(\" +------------------------------- STDEVS (~1) -----------------------------------+\")\n",
    "print(comprobar_stdevs)"
   ]
  },
  {
   "cell_type": "code",
   "execution_count": 5,
   "metadata": {},
   "outputs": [
    {
     "name": "stdout",
     "output_type": "stream",
     "text": [
      "0. coste: 1.1418 [24.56 segundos]\n",
      "1. coste: 0.7225 [24.90 segundos]\n",
      "2. coste: 0.5858 [25.29 segundos]\n",
      "3. coste: 0.5311 [24.56 segundos]\n",
      "4. coste: 0.4933 [24.71 segundos]\n",
      "5. coste: 0.4625 [25.86 segundos]\n",
      "6. coste: 0.4368 [25.42 segundos]\n",
      "7. coste: 0.4151 [24.85 segundos]\n",
      "8. coste: 0.3965 [25.28 segundos]\n",
      "9. coste: 0.3804 [24.73 segundos]\n",
      "10. coste: 0.3665 [24.75 segundos]\n",
      "11. coste: 0.3542 [24.66 segundos]\n",
      "12. coste: 0.3434 [24.52 segundos]\n",
      "13. coste: 0.3337 [25.19 segundos]\n",
      "14. coste: 0.3251 [25.86 segundos]\n",
      "15. coste: 0.3173 [25.35 segundos]\n",
      "16. coste: 0.3102 [25.67 segundos]\n",
      "17. coste: 0.3038 [25.37 segundos]\n",
      "18. coste: 0.2979 [25.13 segundos]\n",
      "19. coste: 0.2925 [24.75 segundos]\n",
      "20. coste: 0.2875 [24.79 segundos]\n",
      "21. coste: 0.2829 [25.43 segundos]\n",
      "22. coste: 0.2786 [25.02 segundos]\n",
      "23. coste: 0.2746 [24.86 segundos]\n",
      "24. coste: 0.2709 [25.00 segundos]\n",
      "25. coste: 0.2674 [24.85 segundos]\n",
      "26. coste: 0.2642 [24.91 segundos]\n",
      "27. coste: 0.2611 [24.88 segundos]\n",
      "28. coste: 0.2582 [26.80 segundos]\n",
      "29. coste: 0.2555 [25.09 segundos]\n",
      "30. coste: 0.2529 [24.80 segundos]\n",
      "31. coste: 0.2505 [24.77 segundos]\n",
      "32. coste: 0.2482 [24.91 segundos]\n",
      "33. coste: 0.2460 [24.90 segundos]\n",
      "34. coste: 0.2439 [24.73 segundos]\n",
      "35. coste: 0.2419 [25.74 segundos]\n",
      "36. coste: 0.2400 [25.13 segundos]\n",
      "37. coste: 0.2382 [25.12 segundos]\n",
      "38. coste: 0.2365 [26.84 segundos]\n",
      "39. coste: 0.2349 [24.88 segundos]\n",
      "Tiempo total: 1004.83\n",
      "Media por iteración: 25.12\n"
     ]
    }
   ],
   "source": [
    "def sigm(fila, pesos, sesgo):\n",
    "    entrada = sesgo + np.sum(fila * pesos)\n",
    "    p = 1/(1 + np.exp(-(entrada)))\n",
    "    return p\n",
    "\n",
    "def calcula_derivpesos(rdd, pesos, sesgo):\n",
    "    parcial = rdd.map(lambda x: x[0]*(sigm(x[0], pesos, sesgo)-x[1]))\n",
    "    suma    = parcial.reduce(lambda x,y: x+y)\n",
    "    dp      = suma/g_filas\n",
    "    return dp\n",
    "\n",
    "def calcula_derivsesgo(rdd, pesos, sesgo):\n",
    "    parcial = rdd.map(lambda x: sigm(x[0], pesos, sesgo)-x[1])\n",
    "    suma    = parcial.reduce(lambda x,y: x+y)\n",
    "    db      = suma/g_filas\n",
    "    return db\n",
    "\n",
    "def calcula_coste(rdd, pesos, sesgo):\n",
    "    parcial = rdd.map(lambda x: (x[1]*np.log(sigm(x[0], pesos, sesgo)))+((1-x[1])*np.log(1-sigm(x[0], pesos, sesgo))))\n",
    "    coste   = parcial.reduce(lambda x,y: x+y)\n",
    "    coste = -(1/g_filas) * coste\n",
    "    return coste\n",
    "\n",
    "def entrenar(datos, iteraciones, aprendizaje):\n",
    "    np.random.seed(6)\n",
    "    pesos  = np.random.random([g_cols, ])\n",
    "    dpesos = np.zeros([g_cols, ])\n",
    "    sesgo  = 0.0\n",
    "    dsesgo = 0.0\n",
    "    t1 = time.time()\n",
    "    for it in range(iteraciones):\n",
    "        it_i = time.time()\n",
    "        # Calcula las derivadas de los pesos\n",
    "        dpesos = calcula_derivpesos(datos, pesos, sesgo)\n",
    "        # Calcula la derivada del sesgo\n",
    "        dsesgo = calcula_derivsesgo(datos, pesos, sesgo)\n",
    "        # Reasigna los pesos y el sesgo\n",
    "        pesos = pesos - dpesos * aprendizaje\n",
    "        sesgo = sesgo - dsesgo * aprendizaje\n",
    "        # Calcula el coste\n",
    "        coste = calcula_coste(datos, pesos, sesgo)\n",
    "        it_f = time.time()\n",
    "        print(\"{}. coste: {:.4f} [{:.2f} segundos]\".format(it, coste, (it_f - it_i)))\n",
    "    \n",
    "    t2 = time.time()\n",
    "    print(\"Tiempo total: {:.2f}\".format(t2 - t1))\n",
    "    print(\"Media por iteración: {:.2f}\".format((t2 - t1)/iteraciones))\n",
    "    \n",
    "    return pesos, sesgo\n",
    "\n",
    "pesos, sesgo = entrenar(datos, ITER, APRN)"
   ]
  },
  {
   "cell_type": "code",
   "execution_count": 6,
   "metadata": {},
   "outputs": [
    {
     "name": "stdout",
     "output_type": "stream",
     "text": [
      "La precisión es: 0.932038 [8.507985591888428]\n"
     ]
    }
   ],
   "source": [
    "def precision(datos, pesos, sesgo):\n",
    "    paso1 = datos.map(lambda x: (sigm(x[0], pesos, sesgo), x[1]))\n",
    "    paso2 = paso1.map(lambda x: (np.rint(x[0]) == x[1], 1))\n",
    "    preds = paso2.reduceByKey(lambda x, y: x + y)\n",
    "    \n",
    "    preci = preds.collectAsMap()[True]/g_filas\n",
    "    return preci\n",
    "\n",
    "t1 = time.time()\n",
    "precision_ = precision(datos, pesos, sesgo)\n",
    "t2 = time.time()\n",
    "print(\"La precisión es: {} [{}]\".format(precision_, (t2 - t1)))"
   ]
  }
 ],
 "metadata": {
  "kernelspec": {
   "display_name": "Python 3",
   "language": "python",
   "name": "python3"
  },
  "language_info": {
   "codemirror_mode": {
    "name": "ipython",
    "version": 3
   },
   "file_extension": ".py",
   "mimetype": "text/x-python",
   "name": "python",
   "nbconvert_exporter": "python",
   "pygments_lexer": "ipython3",
   "version": "3.7.1"
  }
 },
 "nbformat": 4,
 "nbformat_minor": 4
}
