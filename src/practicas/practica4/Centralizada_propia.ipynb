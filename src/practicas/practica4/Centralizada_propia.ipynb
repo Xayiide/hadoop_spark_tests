{
 "cells": [
  {
   "cell_type": "code",
   "execution_count": 1,
   "metadata": {},
   "outputs": [],
   "source": [
    "import numpy as np\n",
    "import time"
   ]
  },
  {
   "cell_type": "code",
   "execution_count": 2,
   "metadata": {},
   "outputs": [],
   "source": [
    "def readFile(fn):\n",
    "    todo  = np.loadtxt(fn, delimiter=',')\n",
    "    datos = todo[:,:-1].copy()\n",
    "    resul = todo[:,-1].copy()\n",
    "    return datos, resul"
   ]
  },
  {
   "cell_type": "code",
   "execution_count": 3,
   "metadata": {},
   "outputs": [],
   "source": [
    "def normalizar(datos):\n",
    "    f, c  = np.shape(datos)  # Filas, columnas\n",
    "    media = np.zeros([1, c]) # Inicializar a 0 un array de 11\n",
    "    std   = np.zeros([1, c]) # \"\n",
    "    \n",
    "    media = np.sum(datos, axis=0)/f\n",
    "    std   = np.sqrt(np.sum(np.power(np.subtract(datos, media[None]), 2), axis = 0)/float(f))\n",
    "    \n",
    "    datos_normalizados = (datos - media)/std\n",
    "    \n",
    "    print(\"Datos normalizados\")\n",
    "    print(datos.shape, media.shape, std.shape)\n",
    "    print(datos_normalizados.shape)\n",
    "    print(\"media, std: \", np.mean(datos_normalizados, axis = 0), np.std(datos_normalizados, axis = 0))\n",
    "    \n",
    "    return datos_normalizados"
   ]
  },
  {
   "cell_type": "code",
   "execution_count": 4,
   "metadata": {},
   "outputs": [],
   "source": [
    "def predecir(w, b, datos):\n",
    "    input_sigmoide  = np.matmul(datos, w) + b\n",
    "    output_sigmoide = 1 / (1 + np.exp(-input_sigmoide))\n",
    "    \n",
    "    return output_sigmoide > 0.5"
   ]
  },
  {
   "cell_type": "code",
   "execution_count": 5,
   "metadata": {},
   "outputs": [],
   "source": [
    "def sigmoide(w, b, datos):\n",
    "    input_sigmoide  = np.matmul(datos, w) + b\n",
    "    output_sigmoide = 1 / (1 + np.exp(-input_sigmoide))\n",
    "    \n",
    "    return output_sigmoide"
   ]
  },
  {
   "cell_type": "code",
   "execution_count": 6,
   "metadata": {},
   "outputs": [],
   "source": [
    "def funcion_coste(res, pred_res, w, filas, lambda_reg):\n",
    "    epsilon = 1e-5\n",
    "    return (-1/filas)*np.sum(res*np.log(pred_res + epsilon) + (1-res)*np.log(1-pred_res + epsilon)) + lambda_reg/(2*filas)*np.sum(np.power(w,2))"
   ]
  },
  {
   "cell_type": "code",
   "execution_count": 7,
   "metadata": {},
   "outputs": [],
   "source": [
    "def precision(w, b, datos, res):\n",
    "    f, c     = np.shape(datos)\n",
    "    pred_res = predecir(w, b, datos)\n",
    "    correcto = 0\n",
    "    for i in range(f):\n",
    "        if res[i] == pred_res[i]:\n",
    "            correcto += 1\n",
    "    return correcto / float(f)"
   ]
  },
  {
   "cell_type": "code",
   "execution_count": 8,
   "metadata": {},
   "outputs": [],
   "source": [
    "def entrenar(datos, res, iteraciones, aprendizaje, lambda_reg):\n",
    "    f, c = np.shape(datos)\n",
    "    np.random.seed(6)\n",
    "    w  = np.random.random([c, ]) # Array de 11 aleatorios\n",
    "    b  = 0\n",
    "    dw = np.zeros([c, ]) # Array de 11 ceros\n",
    "    db = 0\n",
    "    for i in range(iteraciones):\n",
    "        pred_res = sigmoide(w, b, datos)\n",
    "        for j in range(c):\n",
    "            dw[j] = (1/f)*np.sum((pred_res-res)*datos[:,j]) + (lambda_reg/f)*w[j]\n",
    "            # datos[:,j] Te devuelve toda la columna j (1 millón de elementos)\n",
    "        db = 1/f*np.sum(pred_res-res)\n",
    "        w  = w - aprendizaje*dw\n",
    "        b  = b - aprendizaje*db\n",
    "        print(str(i) + \". cost function value: \" + str(funcion_coste(res, pred_res, w, f, lambda_reg)))\n",
    "        \n",
    "    return w, b"
   ]
  },
  {
   "cell_type": "code",
   "execution_count": 9,
   "metadata": {},
   "outputs": [
    {
     "name": "stdout",
     "output_type": "stream",
     "text": [
      "Tiempo transcurrido: 12.174845457077026 segundos.\n"
     ]
    }
   ],
   "source": [
    "t1 = time.time()\n",
    "datos, resul = readFile(\"../../../datos/botnet_tot_syn_l.csv\")\n",
    "t2 = time.time()\n",
    "print(\"Tiempo transcurrido: {} segundos.\".format(t2 - t1))"
   ]
  },
  {
   "cell_type": "code",
   "execution_count": 10,
   "metadata": {},
   "outputs": [
    {
     "name": "stdout",
     "output_type": "stream",
     "text": [
      "(1000000, 11) (1000000,)\n",
      "Datos normalizados\n",
      "(1000000, 11) (11,) (11,)\n",
      "(1000000, 11)\n",
      "media, std:  [-6.16018147e-12  5.56872640e-13 -2.96104913e-12  1.11630100e-12\n",
      "  8.05058467e-14 -2.31109477e-12 -5.81393492e-13 -3.18123951e-12\n",
      " -3.46714788e-13 -2.47027160e-12  4.12380815e-12] [1. 1. 1. 1. 1. 1. 1. 1. 1. 1. 1.]\n",
      " = = = = = = = = = \n",
      "(1000000, 11) (1000000,)\n",
      "Tiempo transcurrido: 0.677001953125 segundos.\n"
     ]
    }
   ],
   "source": [
    "print(datos.shape, resul.shape)\n",
    "t1 = time.time()\n",
    "datos = normalizar(datos)\n",
    "t2 = time.time()\n",
    "print(\" = = = = = = = = = \")\n",
    "print(datos.shape, resul.shape)\n",
    "print(\"Tiempo transcurrido: {} segundos.\".format(t2 - t1))"
   ]
  },
  {
   "cell_type": "code",
   "execution_count": 11,
   "metadata": {},
   "outputs": [
    {
     "name": "stdout",
     "output_type": "stream",
     "text": [
      "0. cost function value: 1.0806564762364792\n",
      "1. cost function value: 0.8612484482977357\n",
      "2. cost function value: 0.7013177105814158\n",
      "3. cost function value: 0.5872546677935642\n",
      "4. cost function value: 0.5060611754671706\n",
      "5. cost function value: 0.4475228927661015\n",
      "6. cost function value: 0.4044264812458692\n",
      "7. cost function value: 0.3719276432882331\n",
      "8. cost function value: 0.3468220444232312\n",
      "9. cost function value: 0.326981371478495\n",
      "10. cost function value: 0.3109724803782283\n",
      "11. cost function value: 0.29781280732476084\n",
      "12. cost function value: 0.286815404880832\n",
      "13. cost function value: 0.2774904330671418\n",
      "14. cost function value: 0.26948183465695363\n",
      "15. cost function value: 0.2625260217926492\n",
      "16. cost function value: 0.25642447832554477\n",
      "17. cost function value: 0.25102528108506583\n",
      "18. cost function value: 0.2462104250233885\n",
      "19. cost function value: 0.24188698526765534\n",
      "20. cost function value: 0.23798085627929244\n",
      "21. cost function value: 0.23443224917561187\n",
      "22. cost function value: 0.23119240680353148\n",
      "23. cost function value: 0.2282211746210223\n",
      "24. cost function value: 0.2254851814313512\n",
      "25. cost function value: 0.22295646047585674\n",
      "26. cost function value: 0.22061139249998035\n",
      "27. cost function value: 0.2184298870349632\n",
      "28. cost function value: 0.216394741906562\n",
      "29. cost function value: 0.2144911375028716\n",
      "30. cost function value: 0.21270623395441882\n",
      "31. cost function value: 0.21102884764812757\n",
      "32. cost function value: 0.20944918944416596\n",
      "33. cost function value: 0.2079586512871285\n",
      "34. cost function value: 0.2065496310756271\n",
      "35. cost function value: 0.2052153880049334\n",
      "36. cost function value: 0.20394992235448328\n",
      "37. cost function value: 0.2027478750168182\n",
      "38. cost function value: 0.20160444307141573\n",
      "39. cost function value: 0.20051530847806964\n",
      "Tiempo transcurrido: 14.307582378387451 segundos.\n",
      "precisión: 0.932304\n",
      "Tiempo transcurrido: 2.4450457096099854 segundos.\n"
     ]
    }
   ],
   "source": [
    "t1 = time.time()\n",
    "w, b = entrenar(datos, resul, 40, 0.5, 0.000002)\n",
    "t2 = time.time()\n",
    "print(\"Tiempo transcurrido: {} segundos.\".format(t2 - t1))\n",
    "\n",
    "t1 = time.time()\n",
    "prec = precision(w, b, datos, resul)\n",
    "t2 = time.time()\n",
    "print(\"precisión:\", prec)\n",
    "print(\"Tiempo transcurrido: {} segundos.\".format(t2 - t1))"
   ]
  },
  {
   "cell_type": "code",
   "execution_count": null,
   "metadata": {},
   "outputs": [],
   "source": []
  }
 ],
 "metadata": {
  "kernelspec": {
   "display_name": "Python 3",
   "language": "python",
   "name": "python3"
  },
  "language_info": {
   "codemirror_mode": {
    "name": "ipython",
    "version": 3
   },
   "file_extension": ".py",
   "mimetype": "text/x-python",
   "name": "python",
   "nbconvert_exporter": "python",
   "pygments_lexer": "ipython3",
   "version": "3.7.1"
  }
 },
 "nbformat": 4,
 "nbformat_minor": 4
}
