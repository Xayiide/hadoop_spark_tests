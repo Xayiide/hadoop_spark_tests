{
 "cells": [
  {
   "cell_type": "code",
   "execution_count": 1,
   "metadata": {},
   "outputs": [],
   "source": [
    "import findspark\n",
    "findspark.init()\n",
    "import pyspark\n",
    "from pyspark import SparkContext\n",
    "import numpy as np\n",
    "import time\n",
    "\n",
    "# Iniciar random\n",
    "np.random.seed(6)\n",
    "\n",
    "# Variables globales con información para acelerar procesamiento\n",
    "g_filas = g_cols = 0\n",
    "\n",
    "ITER = 40\n",
    "APRN = 0.5\n",
    "LMBD = 0.000002"
   ]
  },
  {
   "cell_type": "markdown",
   "metadata": {},
   "source": [
    "# Funciones"
   ]
  },
  {
   "cell_type": "code",
   "execution_count": 2,
   "metadata": {},
   "outputs": [],
   "source": [
    "# linea es un string de la forma:\n",
    "# \"n0, n1, n2, ..., n10, r\" donde nX es una propiedad del tráfico y r es\n",
    "# su clasificación (1 si es botnet, 0 si no lo es)\n",
    "def formato_inicial(linea):\n",
    "    aux   = [float(i) for i in linea.split(',')]\n",
    "    datos = np.array(aux[:-1])\n",
    "    resul = aux[-1]\n",
    "    return (datos, resul)\n",
    "\n",
    "# Devuelve un RDD de los datos del fichero fn. La lectura con Spark\n",
    "# ya es mucho más rápida que leyendo con numpy.loadtxt()\n",
    "def readFile(fn):\n",
    "    global g_filas, g_cols\n",
    "    sc      = SparkContext(\"local[*]\", \"BotnetParalelaPruebas\")\n",
    "    todo    = sc.textFile(fn)\n",
    "    ret     = todo.map(formato_inicial)\n",
    "    g_filas = todo.count()\n",
    "    g_cols  = len(ret.take(1)[0][0])\n",
    "    return ret"
   ]
  },
  {
   "cell_type": "code",
   "execution_count": 3,
   "metadata": {},
   "outputs": [],
   "source": [
    "def norm_tupla(tuplaXy):\n",
    "    media = np.mean(tuplaXy[0])\n",
    "    stdev = np.std(tuplaXy[0])\n",
    "    tnorm = (tuplaXy[0] - media)/stdev\n",
    "    return (tnorm, tuplaXy[1])\n",
    "\n",
    "# Toma por parámetro un RDD de 1.000.000 de registros.\n",
    "# Cada registro tiene la forma (X, y)\n",
    "# X es un array con 11 flotantes\n",
    "# y es 1 ó 0\n",
    "# Devuelve un RDD equivalente donde la X de cada tupla está\n",
    "# reescalada a N(0, 1) (media = 0, desv. est. = 1)\n",
    "def normalizar(rdd):\n",
    "    return rdd.map(norm_tupla)"
   ]
  },
  {
   "cell_type": "code",
   "execution_count": 4,
   "metadata": {},
   "outputs": [],
   "source": [
    "# pesos: Array de (1Mx1)\n",
    "# sesgo: flotante\n",
    "# datos: RDD de 1M de regs. Cada reg: tupla (X, y) donde X es un array de (11x1)\n",
    "# datos x sesgo: Array de (1Mx1)\n",
    "# La multiplicación se puede hacer por filas y no se altera el resultado\n",
    "def sigmoide(pesos, sesgo, datos):\n",
    "    entrada = datos.map(lambda fila: np.matmul(fila[0], pesos) + sesgo)\n",
    "    salida  = entrada.map(lambda x: 1/(1 + np.exp(-x)))\n",
    "    return salida\n",
    "\n",
    "def entrenar(datos, iteraciones, aprendizaje, tasareg):\n",
    "    f = g_filas # 1.000.000\n",
    "    c = g_cols  # 11\n",
    "    pesos   = np.random.random([c, ])\n",
    "    d_pesos = np.zeros([c, ])\n",
    "    sesgo   = 0\n",
    "    d_sesgo = 0\n",
    "    for it in range(iteraciones):\n",
    "        pred = sigmoide(pesos, sesgo, datos)\n",
    "        for j in range(c):\n",
    "            pass"
   ]
  },
  {
   "cell_type": "markdown",
   "metadata": {},
   "source": [
    "# Pruebas"
   ]
  },
  {
   "cell_type": "code",
   "execution_count": 5,
   "metadata": {},
   "outputs": [
    {
     "name": "stdout",
     "output_type": "stream",
     "text": [
      "Tiempo transcurrido: 3.833125352859497 segundos.\n"
     ]
    }
   ],
   "source": [
    "t1  = time.time()\n",
    "rdd = readFile(\"../../../datos/botnet_tot_syn_l.csv\")\n",
    "t2  = time.time()\n",
    "print(\"Tiempo transcurrido: {} segundos.\".format(t2 - t1))"
   ]
  },
  {
   "cell_type": "code",
   "execution_count": 6,
   "metadata": {},
   "outputs": [
    {
     "name": "stdout",
     "output_type": "stream",
     "text": [
      "Tiempo transcurrido: 5.316734313964844e-05 segundos.\n",
      "1.0092936587501423e-17\n",
      "1.0\n"
     ]
    }
   ],
   "source": [
    "t1 = time.time()\n",
    "datos = normalizar(rdd)\n",
    "t2 = time.time()\n",
    "print(\"Tiempo transcurrido: {} segundos.\".format(t2 - t1))\n",
    "# Haz la media de uno de los X. Tiene que ser ~0\n",
    "# print(np.mean(datos.take(1)[0][0])) # 0.000000000000000010092936587501423\n",
    "# La desviación estándar tiene que ser ~1\n",
    "# print(np.std(datos.take(1)[0][0])) # 1.0"
   ]
  },
  {
   "cell_type": "code",
   "execution_count": 7,
   "metadata": {},
   "outputs": [
    {
     "name": "stdout",
     "output_type": "stream",
     "text": [
      "Tiempo transcurrido: 0.00030994415283203125 segundos.\n"
     ]
    }
   ],
   "source": [
    "t1 = time.time()\n",
    "entrenar(datos, ITER, APRN, LMBD)\n",
    "t2 = time.time()\n",
    "print(\"Tiempo transcurrido: {} segundos.\".format(t2 - t1))"
   ]
  },
  {
   "cell_type": "code",
   "execution_count": null,
   "metadata": {},
   "outputs": [],
   "source": []
  }
 ],
 "metadata": {
  "kernelspec": {
   "display_name": "Python 3",
   "language": "python",
   "name": "python3"
  },
  "language_info": {
   "codemirror_mode": {
    "name": "ipython",
    "version": 3
   },
   "file_extension": ".py",
   "mimetype": "text/x-python",
   "name": "python",
   "nbconvert_exporter": "python",
   "pygments_lexer": "ipython3",
   "version": "3.7.1"
  }
 },
 "nbformat": 4,
 "nbformat_minor": 4
}
