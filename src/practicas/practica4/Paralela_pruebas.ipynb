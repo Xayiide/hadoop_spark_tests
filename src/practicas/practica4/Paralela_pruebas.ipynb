{
 "cells": [
  {
   "cell_type": "code",
   "execution_count": 1,
   "metadata": {},
   "outputs": [],
   "source": [
    "import findspark\n",
    "findspark.init()\n",
    "import pyspark\n",
    "from pyspark import SparkContext\n",
    "import numpy as np\n",
    "import time\n",
    "\n",
    "# Iniciar random\n",
    "np.random.seed(6)\n",
    "\n",
    "# Variables globales con información para acelerar procesamiento\n",
    "g_filas = g_cols   = 0    # Serán números (1.000.000 y 11 en este caso)\n",
    "g_pesos = g_dpesos = None # Serán arrays de 11 elementos\n",
    "g_sesgo = g_dsesgo = 0    # Serán números (coma flotante)\n",
    "\n",
    "ITER = 40\n",
    "APRN = 0.5\n",
    "LMBD = 0.000002"
   ]
  },
  {
   "cell_type": "markdown",
   "metadata": {},
   "source": [
    "# Funciones"
   ]
  },
  {
   "cell_type": "code",
   "execution_count": 2,
   "metadata": {},
   "outputs": [],
   "source": [
    "# linea es un string de la forma:\n",
    "# \"n0, n1, n2, ..., n10, r\" donde nX es una propiedad del tráfico y r es\n",
    "# su clasificación (1 si es botnet, 0 si no lo es)\n",
    "def formato_inicial(linea):\n",
    "    aux   = [float(i) for i in linea.split(',')]\n",
    "    datos = np.array(aux[:-1])\n",
    "    resul = aux[-1]\n",
    "    return (datos, resul)\n",
    "\n",
    "# Devuelve un RDD de los datos del fichero fn. La lectura con Spark\n",
    "# ya es mucho más rápida que leyendo con numpy.loadtxt()\n",
    "def readFile(fn):\n",
    "    global g_filas, g_cols\n",
    "    sc      = SparkContext(\"local[*]\", \"BotnetParalelaPruebas\")\n",
    "    todo    = sc.textFile(fn)\n",
    "    ret     = todo.map(formato_inicial)\n",
    "    g_filas = todo.count()\n",
    "    g_cols  = len(ret.take(1)[0][0])\n",
    "    return ret"
   ]
  },
  {
   "cell_type": "code",
   "execution_count": 3,
   "metadata": {},
   "outputs": [],
   "source": [
    "def norm_tupla(tuplaXy):\n",
    "    media = np.mean(tuplaXy[0])\n",
    "    stdev = np.std(tuplaXy[0])\n",
    "    tnorm = (tuplaXy[0] - media)/stdev\n",
    "    return (tnorm, tuplaXy[1])\n",
    "\n",
    "# Toma por parámetro un RDD de 1.000.000 de registros.\n",
    "# Cada registro tiene la forma (X, y)\n",
    "# X es un array con 11 flotantes\n",
    "# y es 1 ó 0\n",
    "# Devuelve un RDD equivalente donde la X de cada tupla está\n",
    "# reescalada a N(0, 1) (media = 0, desv. est. = 1)\n",
    "def normalizar(rdd):\n",
    "    return rdd.map(norm_tupla)"
   ]
  },
  {
   "cell_type": "code",
   "execution_count": 4,
   "metadata": {},
   "outputs": [],
   "source": [
    "# fila: (X, y, ŷ)\n",
    "# Devuelve un array de 11 medias\n",
    "def formato_deriv(fila):\n",
    "    aux = (fila[2] - fila[1])\n",
    "    return fila[0] * aux\n",
    "\n",
    "# g_pesos: Array de (1Mx1)\n",
    "# g_sesgo: flotante\n",
    "# datos: RDD de 1M de regs. Cada reg: tupla (X, y) donde X es un array de (11x1)\n",
    "# datos x sesgo: Array de (1Mx1)\n",
    "# La multiplicación se puede hacer por filas y no se altera el resultado\n",
    "# El resultado es que datos ahora es el mismo RDD pero las tuplas son (X, y, ŷ),\n",
    "#  donde ŷ es la predicción de resultado\n",
    "def sigmoide(datos):\n",
    "    global g_pesos, g_sesgo\n",
    "    entrada = datos.map(lambda fila: (fila[0], fila[1], np.matmul(fila[0], g_pesos) + g_sesgo))\n",
    "    salida  = entrada.map(lambda fila: (fila[0], fila[1], 1/(1 + np.exp(-fila[2]))))\n",
    "    return salida\n",
    "\n",
    "def entrenar(datos, iteraciones, aprendizaje, tasareg):\n",
    "    global g_pesos, g_dpesos\n",
    "    global g_sesgo, g_dsesgo\n",
    "    f = g_filas # 1.000.000\n",
    "    c = g_cols  # 11\n",
    "    g_pesos  = np.random.random([c, ])\n",
    "    g_dpesos = np.zeros([c, ])\n",
    "#   for it in range(iteraciones): # (las siguientes dos líneas irían dentro del for)\n",
    "    preds  = sigmoide(datos) # RDD 1M (X, y, ŷ)\n",
    "    derivs = preds.map(lambda fila: (fila[2] - fila[1]) * fila[0]) # (ŷ - y) * X\n",
    "    # Calcular la derivada del sesgo: 1/f*np.sum(pred_res-res)\n",
    "    # Asignar pesos y sesgo:\n",
    "    #    w  = w - (aprendizaje * dw)\n",
    "    #    b  = b - (aprendizaje * db)\n",
    "    # Calcular función de coste en cada iteración\n",
    "    return derivs"
   ]
  },
  {
   "cell_type": "markdown",
   "metadata": {},
   "source": [
    "# Pruebas"
   ]
  },
  {
   "cell_type": "code",
   "execution_count": 5,
   "metadata": {},
   "outputs": [
    {
     "name": "stdout",
     "output_type": "stream",
     "text": [
      "Tiempo transcurrido: 3.781414270401001 segundos.\n"
     ]
    }
   ],
   "source": [
    "t1  = time.time()\n",
    "rdd = readFile(\"../../../datos/botnet_tot_syn_l.csv\")\n",
    "t2  = time.time()\n",
    "print(\"Tiempo transcurrido: {} segundos.\".format(t2 - t1))"
   ]
  },
  {
   "cell_type": "code",
   "execution_count": 6,
   "metadata": {},
   "outputs": [
    {
     "name": "stdout",
     "output_type": "stream",
     "text": [
      "Tiempo transcurrido: 0.0 segundos.\n"
     ]
    }
   ],
   "source": [
    "t1 = time.time()\n",
    "datos = normalizar(rdd)\n",
    "t2 = time.time()\n",
    "print(\"Tiempo transcurrido: {} segundos.\".format(t2 - t1))\n",
    "# Haz la media de uno de los X. Tiene que ser ~0\n",
    "# print(np.mean(datos.take(1)[0][0])) # 0.000000000000000010092936587501423\n",
    "# La desviación estándar tiene que ser ~1\n",
    "# print(np.std(datos.take(1)[0][0])) # 1.0\n",
    "\n",
    "# 1.2345e-05 = 0.000012345"
   ]
  },
  {
   "cell_type": "code",
   "execution_count": 7,
   "metadata": {},
   "outputs": [
    {
     "name": "stdout",
     "output_type": "stream",
     "text": [
      "Tiempo transcurrido: 9.655952453613281e-05 segundos.\n"
     ]
    }
   ],
   "source": [
    "t1 = time.time()\n",
    "derivadas = entrenar(datos, ITER, APRN, LMBD)\n",
    "t2 = time.time()\n",
    "print(\"Tiempo transcurrido: {} segundos.\".format(t2 - t1))"
   ]
  },
  {
   "cell_type": "code",
   "execution_count": 8,
   "metadata": {},
   "outputs": [
    {
     "name": "stdout",
     "output_type": "stream",
     "text": [
      "<class 'pyspark.rdd.PipelinedRDD'>\n",
      "1000000\n",
      "[array([ 0.19724551,  0.19724478,  0.19724551,  0.19724552,  0.19724549,\n",
      "        0.19724549,  0.19724551,  0.19724552,  0.19724543, -0.88760373,\n",
      "       -0.88760504])]\n"
     ]
    }
   ],
   "source": [
    "# derivs\n",
    "print(type(derivadas))\n",
    "print(\"1000000\") # aux.count())\n",
    "print(derivadas.take(1))"
   ]
  },
  {
   "cell_type": "code",
   "execution_count": 9,
   "metadata": {},
   "outputs": [
    {
     "name": "stdout",
     "output_type": "stream",
     "text": [
      "Tiempo transcurrido: 16.022749662399292 segundos.\n"
     ]
    }
   ],
   "source": [
    "t1 = time.time()\n",
    "red = derivadas.reduce(lambda x, y: x + y)\n",
    "t2 = time.time()\n",
    "print(\"Tiempo transcurrido: {} segundos.\".format(t2 - t1))"
   ]
  },
  {
   "cell_type": "code",
   "execution_count": 10,
   "metadata": {},
   "outputs": [
    {
     "name": "stdout",
     "output_type": "stream",
     "text": [
      "Tiempo transcurrido: 5.364418029785156e-05 segundos.\n",
      "[-0.02200581 -0.02043231 -0.02322289 -0.02407498  0.02178561 -0.03084179\n",
      " -0.0243429  -0.02434328 -0.02420097  0.17837562 -0.0066963 ]\n"
     ]
    }
   ],
   "source": [
    "t1 = time.time()\n",
    "derivadas_final = red / g_filas\n",
    "t2 = time.time()\n",
    "print(\"Tiempo transcurrido: {} segundos.\".format(t2 - t1))\n",
    "print(derivadas_final)"
   ]
  }
 ],
 "metadata": {
  "kernelspec": {
   "display_name": "Python 3",
   "language": "python",
   "name": "python3"
  },
  "language_info": {
   "codemirror_mode": {
    "name": "ipython",
    "version": 3
   },
   "file_extension": ".py",
   "mimetype": "text/x-python",
   "name": "python",
   "nbconvert_exporter": "python",
   "pygments_lexer": "ipython3",
   "version": "3.7.1"
  }
 },
 "nbformat": 4,
 "nbformat_minor": 4
}
