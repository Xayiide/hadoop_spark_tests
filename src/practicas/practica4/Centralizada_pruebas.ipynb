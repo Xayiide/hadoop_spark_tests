{
 "cells": [
  {
   "cell_type": "code",
   "execution_count": 1,
   "metadata": {},
   "outputs": [],
   "source": [
    "import numpy as np\n",
    "np.random.seed(6)"
   ]
  },
  {
   "cell_type": "code",
   "execution_count": 2,
   "metadata": {},
   "outputs": [],
   "source": [
    "def readFile(fn):\n",
    "    todo  = np.loadtxt(fn, delimiter=',')\n",
    "    datos = todo[:,:-1].copy() # Coge sólo las columnas de datos\n",
    "    resul = todo[:,-1].copy()  # Coge sólo la columna de resultado (etiqueta)\n",
    "    return datos, resul\n",
    "\n",
    "def sigmoide(pesos, sesgo, datos):\n",
    "    entrada = np.matmul(datos, pesos) + sesgo\n",
    "    salida  = 1 / (1 + np.exp(-entrada))\n",
    "    return salida"
   ]
  },
  {
   "cell_type": "code",
   "execution_count": 3,
   "metadata": {},
   "outputs": [],
   "source": [
    "datos, resul = readFile(\"../../../datos/botnet_tot_syn_l.csv\")"
   ]
  },
  {
   "cell_type": "code",
   "execution_count": 4,
   "metadata": {},
   "outputs": [
    {
     "name": "stdout",
     "output_type": "stream",
     "text": [
      "1000000 || 11\n",
      "media: [[0. 0. 0. 0. 0. 0. 0. 0. 0. 0. 0.]]\n",
      "stdev: [[0. 0. 0. 0. 0. 0. 0. 0. 0. 0. 0.]]\n"
     ]
    }
   ],
   "source": [
    "f, c  = np.shape(datos)\n",
    "media = np.zeros([1, c])\n",
    "stdev = np.zeros([1, c])\n",
    "print(f, \"||\", c)\n",
    "print(\"media:\", media)\n",
    "print(\"stdev:\", stdev)"
   ]
  },
  {
   "cell_type": "code",
   "execution_count": 7,
   "metadata": {},
   "outputs": [
    {
     "name": "stdout",
     "output_type": "stream",
     "text": [
      "-1.1032690969313797e-12\n",
      "1.0000000000016407\n",
      "(1000000, 11)\n"
     ]
    }
   ],
   "source": [
    "media = np.sum(datos, axis=0)/f\n",
    "stdev = np.sqrt(np.sum(np.power(np.subtract(datos, media[None]), 2), axis = 0)/float(f))\n",
    "datos_normalizados = (datos - media)/stdev\n",
    "\n",
    "print(np.mean(datos_normalizados)) # ~0\n",
    "print(np.std(datos_normalizados))  # ~1\n",
    "print(datos_normalizados.shape)"
   ]
  },
  {
   "cell_type": "code",
   "execution_count": 9,
   "metadata": {},
   "outputs": [
    {
     "name": "stdout",
     "output_type": "stream",
     "text": [
      "(11,)\n",
      "(1000000, 11)\n"
     ]
    }
   ],
   "source": [
    "data = datos_normalizados # Cambio de nombre\n",
    "filas, cols = data.shape # filas = 1.000.000, cols = 11\n",
    "pesos  = np.random.random([cols, ]) # Array de 11 aleatorios\n",
    "dpesos = np.zeros([cols, ])\n",
    "sesgo  = 0\n",
    "dsesgo = 0\n",
    "print(pesos.shape)\n",
    "print(data.shape)"
   ]
  },
  {
   "cell_type": "code",
   "execution_count": 10,
   "metadata": {},
   "outputs": [],
   "source": [
    "entrada1 = np.matmul(data, pesos) + sesgo\n",
    "salida1  = 1 / (1 + np.exp(-entrada1))"
   ]
  },
  {
   "cell_type": "code",
   "execution_count": 16,
   "metadata": {},
   "outputs": [
    {
     "name": "stdout",
     "output_type": "stream",
     "text": [
      "entrada1: <class 'numpy.ndarray'> [-0.36542295  1.75540178  0.45948984 ...  2.00047052 -0.68029216\n",
      " -0.82676648]\n",
      "1000000\n",
      "salida1: <class 'numpy.ndarray'> [0.40964746 0.85263283 0.61289314 ... 0.88084647 0.3361961  0.30432921]\n",
      "1000000\n"
     ]
    }
   ],
   "source": [
    "print(\"entrada1:\", type(entrada1), entrada1)\n",
    "print(len(entrada1))\n",
    "print(\"salida1:\", type(salida1), salida1)\n",
    "print(len(salida1))"
   ]
  },
  {
   "cell_type": "code",
   "execution_count": null,
   "metadata": {},
   "outputs": [],
   "source": []
  }
 ],
 "metadata": {
  "kernelspec": {
   "display_name": "Python 3",
   "language": "python",
   "name": "python3"
  },
  "language_info": {
   "codemirror_mode": {
    "name": "ipython",
    "version": 3
   },
   "file_extension": ".py",
   "mimetype": "text/x-python",
   "name": "python",
   "nbconvert_exporter": "python",
   "pygments_lexer": "ipython3",
   "version": "3.7.1"
  }
 },
 "nbformat": 4,
 "nbformat_minor": 4
}
