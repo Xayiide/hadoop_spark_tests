{
 "cells": [
  {
   "cell_type": "code",
   "execution_count": 1,
   "metadata": {},
   "outputs": [],
   "source": [
    "import numpy as np"
   ]
  },
  {
   "cell_type": "code",
   "execution_count": 2,
   "metadata": {},
   "outputs": [],
   "source": [
    "def readFile(fn):\n",
    "    todo  = np.loadtxt(fn, delimiter=',')\n",
    "    datos = todo[:,:-1].copy() # Coge sólo las columnas de datos\n",
    "    resul = todo[:,-1].copy()  # Coge sólo la columna de resultado (etiqueta)\n",
    "    return datos, resul"
   ]
  },
  {
   "cell_type": "code",
   "execution_count": 3,
   "metadata": {},
   "outputs": [],
   "source": [
    "datos, resul = readFile(\"../../../datos/botnet_tot_syn_l.csv\")"
   ]
  },
  {
   "cell_type": "code",
   "execution_count": 6,
   "metadata": {},
   "outputs": [
    {
     "name": "stdout",
     "output_type": "stream",
     "text": [
      "1000000 || 11\n"
     ]
    }
   ],
   "source": [
    "f, c = np.shape(datos)\n",
    "print(f, \"||\", c)"
   ]
  },
  {
   "cell_type": "code",
   "execution_count": 8,
   "metadata": {},
   "outputs": [
    {
     "data": {
      "text/plain": [
       "(array([[0., 0., 0., 0., 0., 0., 0., 0., 0., 0., 0.]]),\n",
       " array([[0., 0., 0., 0., 0., 0., 0., 0., 0., 0., 0.]]))"
      ]
     },
     "execution_count": 8,
     "metadata": {},
     "output_type": "execute_result"
    }
   ],
   "source": [
    "media = np.zeros([1, c])\n",
    "std   = np.zeros([1, c])\n",
    "\n",
    "media, std"
   ]
  },
  {
   "cell_type": "code",
   "execution_count": 9,
   "metadata": {},
   "outputs": [
    {
     "data": {
      "text/plain": [
       "(array([1.28153827e+03, 2.12827672e+04, 6.94805718e+03, 6.26311961e+04,\n",
       "        1.22198595e+08, 1.57222361e+07, 9.10731393e+00, 1.88975480e+00,\n",
       "        1.24270159e+02, 2.13060301e+09, 2.26149180e+09]),\n",
       " array([1.60589322e+03, 2.41174750e+04, 1.63949454e+04, 1.34264218e+05,\n",
       "        2.33920714e+08, 4.41237795e+07, 5.28172581e+00, 2.10134561e+00,\n",
       "        9.03431222e+01, 7.13843443e+08, 1.30153195e+09]))"
      ]
     },
     "execution_count": 9,
     "metadata": {},
     "output_type": "execute_result"
    }
   ],
   "source": [
    "media = np.sum(datos, axis=0)/f\n",
    "std   = np.sqrt(np.sum(np.power(np.subtract(datos, media[None]), 2), axis = 0)/float(f))\n",
    "\n",
    "media, std"
   ]
  },
  {
   "cell_type": "code",
   "execution_count": 11,
   "metadata": {},
   "outputs": [
    {
     "data": {
      "text/plain": [
       "array([[-7.92409775e-01, -8.13093708e-01, -4.22450764e-01, ...,\n",
       "         8.27177994e-01,  4.73166157e-01,  1.58951724e-01],\n",
       "       [ 1.44372040e+00,  1.11636100e+00,  3.91275636e-01, ...,\n",
       "         1.02641833e+00, -8.28695452e-01,  1.58948532e-01],\n",
       "       [-7.98021657e-01, -8.82462456e-01, -4.20559921e-01, ...,\n",
       "         1.02641833e+00,  4.73166118e-01,  1.85749013e-01],\n",
       "       ...,\n",
       "       [-7.98021657e-01,  5.94307946e-01, -4.18913078e-01, ...,\n",
       "         8.71453555e-01,  2.20786283e+00,  1.58948532e-01],\n",
       "       [-7.98021657e-01,  8.91950823e-04, -4.20559921e-01, ...,\n",
       "         9.48936012e-01, -8.91330613e-01,  1.58949486e-01],\n",
       "       [ 1.44368325e+00, -8.82462465e-01, -4.22267780e-01, ...,\n",
       "        -7.11400672e-01,  4.73166157e-01, -8.96911346e-01]])"
      ]
     },
     "execution_count": 11,
     "metadata": {},
     "output_type": "execute_result"
    }
   ],
   "source": [
    "datos_normalizados = (datos - media)/std\n",
    "datos_normalizados"
   ]
  },
  {
   "cell_type": "code",
   "execution_count": null,
   "metadata": {},
   "outputs": [],
   "source": []
  }
 ],
 "metadata": {
  "kernelspec": {
   "display_name": "Python 3",
   "language": "python",
   "name": "python3"
  },
  "language_info": {
   "codemirror_mode": {
    "name": "ipython",
    "version": 3
   },
   "file_extension": ".py",
   "mimetype": "text/x-python",
   "name": "python",
   "nbconvert_exporter": "python",
   "pygments_lexer": "ipython3",
   "version": "3.7.1"
  }
 },
 "nbformat": 4,
 "nbformat_minor": 4
}
