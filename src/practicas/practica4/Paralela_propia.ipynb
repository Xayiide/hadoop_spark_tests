{
 "cells": [
  {
   "cell_type": "code",
   "execution_count": 1,
   "metadata": {},
   "outputs": [],
   "source": [
    "import findspark\n",
    "findspark.init()\n",
    "import pyspark\n",
    "from pyspark import SparkContext\n",
    "import numpy as np\n",
    "import time\n",
    "\n",
    "# Iniciar random\n",
    "np.random.seed(6)\n",
    "\n",
    "# Variables globales con información para acelerar procesamiento\n",
    "g_filas = g_cols   = 0    # Serán números (1.000.000 y 11 en este caso)\n",
    "g_pesos = g_dpesos = None # Serán arrays de 11 elementos\n",
    "g_sesgo = g_dsesgo = 0    # Serán números (coma flotante)\n",
    "\n",
    "ITER = 10\n",
    "APRN = 0.5\n",
    "LMBD = 0.000002"
   ]
  },
  {
   "cell_type": "code",
   "execution_count": 2,
   "metadata": {},
   "outputs": [
    {
     "name": "stdout",
     "output_type": "stream",
     "text": [
      "Tiempo transcurrido: 3.9155519008636475 segundos.\n"
     ]
    }
   ],
   "source": [
    "# linea es un string de la forma:\n",
    "# \"n0, n1, n2, ..., n10, r\" donde nX es una propiedad del tráfico y r es\n",
    "# su clasificación (1 si es botnet, 0 si no lo es)\n",
    "def formato_inicial(linea):\n",
    "    aux   = [float(i) for i in linea.split(',')]\n",
    "    datos = np.array(aux[:-1])\n",
    "    resul = aux[-1]\n",
    "    return (datos, resul)\n",
    "\n",
    "# Devuelve un RDD de los datos del fichero fn.\n",
    "# Cada registro del RDD es una tupla (X, y)\n",
    "#  X: np.array de los datos\n",
    "#  y: clasificación (1 = botnet, 0 = no botnet)\n",
    "def readFile(fn):\n",
    "    global g_filas, g_cols\n",
    "    sc      = SparkContext(\"local[*]\", \"BotnetParalelaPruebas\")\n",
    "    todo    = sc.textFile(fn)\n",
    "    ret     = todo.map(formato_inicial)\n",
    "    g_filas = todo.count()\n",
    "    g_cols  = len(ret.take(1)[0][0])\n",
    "    return ret\n",
    "\n",
    "t1  = time.time()\n",
    "rdd = readFile(\"../../../datos/botnet_tot_syn_l.csv\")\n",
    "t2  = time.time()\n",
    "print(\"Tiempo transcurrido: {} segundos.\".format(t2 - t1))"
   ]
  },
  {
   "cell_type": "code",
   "execution_count": 3,
   "metadata": {},
   "outputs": [
    {
     "name": "stdout",
     "output_type": "stream",
     "text": [
      "Tiempo transcurrido: 4.482269287109375e-05 segundos.\n"
     ]
    }
   ],
   "source": [
    "def norm_tupla(tuplaXy):\n",
    "    media = np.mean(tuplaXy[0])\n",
    "    stdev = np.std(tuplaXy[0])\n",
    "    tnorm = (tuplaXy[0] - media)/stdev\n",
    "    return (tnorm, tuplaXy[1])\n",
    "\n",
    "# Toma por parámetro un RDD de 1.000.000 de registros.\n",
    "# Cada registro tiene la forma (X, y)\n",
    "# X es un array con 11 flotantes\n",
    "# y es 1 ó 0\n",
    "# Devuelve un RDD equivalente donde la X de cada tupla está\n",
    "# reescalada a N(0, 1) (media = 0, desv. est. = 1)\n",
    "def normalizar(rdd):\n",
    "    return rdd.map(norm_tupla)\n",
    "\n",
    "t1 = time.time()\n",
    "datos = normalizar(rdd)\n",
    "t2 = time.time()\n",
    "print(\"Tiempo transcurrido: {} segundos.\".format(t2 - t1))\n",
    "# Haz la media de uno de los X. Tiene que ser ~0\n",
    "# print(np.mean(datos.take(1)[0][0])) # 0.000000000000000010092936587501423\n",
    "# La desviación estándar tiene que ser ~1\n",
    "# print(np.std(datos.take(1)[0][0])) # 1.0\n",
    "\n",
    "# 1.2345e-05 = 0.000012345"
   ]
  },
  {
   "cell_type": "code",
   "execution_count": 4,
   "metadata": {},
   "outputs": [
    {
     "name": "stdout",
     "output_type": "stream",
     "text": [
      "0: 0.6803102202615465 [50.35551881790161]\n",
      "1: 0.674087819807617 [52.061861515045166]\n",
      "2: 0.6698118367800296 [51.13590955734253]\n",
      "3: 0.6666456374088678 [52.418551206588745]\n",
      "4: 0.6641917066055787 [50.4379198551178]\n",
      "5: 0.6622034529410922 [50.724796295166016]\n",
      "6: 0.6605219687843605 [50.78321146965027]\n",
      "7: 0.6590444209905983 [50.42699122428894]\n",
      "8: 0.6577041717318348 [51.000675678253174]\n",
      "9: 0.6564579554903279 [50.93979620933533]\n"
     ]
    }
   ],
   "source": [
    "# fila: np.array de 11 elementos (la X de las tuplas del RDD)\n",
    "def sigmoide(fila):\n",
    "    global g_pesos, g_sesgo\n",
    "    entrada = np.matmul(fila, g_pesos) + g_sesgo\n",
    "    pred = 1 / (1 + np.exp(-entrada))\n",
    "    return pred\n",
    "  \n",
    "# datos: RDD de 1M de regs. Cada reg: tupla (X, y)\n",
    "# medias: np.array de 11 elementos (derivadas de los pesos)\n",
    "def drv_pesos(datos):\n",
    "    global g_filas\n",
    "    sumas  = datos.map(lambda x: x[0]*(sigmoide(x[0]) - x[1])).reduce(lambda x, y: x + y)\n",
    "    medias = sumas/g_filas\n",
    "    return medias\n",
    "\n",
    "# datos: RDD de 1M de regs. Cada reg: tupla (X, y)\n",
    "# medias: np.array de 11 elementos (derivadas de los sesgos)\n",
    "def drv_sesgo(datos):\n",
    "    global g_filas\n",
    "    sumas  = datos.map(lambda x: sigmoide(x[0]) - x[1]).reduce(lambda x, y: x + y)\n",
    "    medias = sumas/g_filas\n",
    "    return medias\n",
    "\n",
    "def presio(datos):\n",
    "    global g_filas\n",
    "    parcial = datos.map(lambda x: (x[1] * np.log(sigmoide(x[0]))) + ((1-x[1]) * np.log(1 - sigmoide(x[0]))))\n",
    "    suma    = parcial.reduce(lambda x, y: x + y)\n",
    "    return -(1/g_filas) * suma\n",
    "    \n",
    "def entrenar(datos, iteraciones, aprendizaje):\n",
    "    global g_filas, g_cols\n",
    "    global g_pesos, g_dpesos\n",
    "    global g_sesgo, g_dsesgo\n",
    "    g_pesos  = np.random.random([g_cols, ])\n",
    "    g_dpesos = np.zeros([g_cols, ])\n",
    "    for it in range(iteraciones):\n",
    "        t1 = time.time()\n",
    "        g_dpesos = drv_pesos(datos)\n",
    "        g_dsesgo = drv_sesgo(datos)\n",
    "        \n",
    "        g_pesos  = g_pesos - g_dpesos * aprendizaje\n",
    "        g_sesgo  = g_sesgo - g_dsesgo * aprendizaje\n",
    "        \n",
    "        coste = presio(datos)\n",
    "        t2 = time.time()\n",
    "        print(str(it) + \": \" + str(coste) + \" [{}]\".format(t2 - t1))\n",
    "    return g_pesos, g_sesgo\n",
    "\n",
    "pesos, sesgo = entrenar(datos, ITER, APRN)"
   ]
  }
 ],
 "metadata": {
  "kernelspec": {
   "display_name": "Python 3",
   "language": "python",
   "name": "python3"
  },
  "language_info": {
   "codemirror_mode": {
    "name": "ipython",
    "version": 3
   },
   "file_extension": ".py",
   "mimetype": "text/x-python",
   "name": "python",
   "nbconvert_exporter": "python",
   "pygments_lexer": "ipython3",
   "version": "3.7.1"
  }
 },
 "nbformat": 4,
 "nbformat_minor": 4
}
