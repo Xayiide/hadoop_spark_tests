{
 "cells": [
  {
   "cell_type": "code",
   "execution_count": 1,
   "metadata": {},
   "outputs": [],
   "source": [
    "import findspark\n",
    "findspark.init()\n",
    "import pyspark\n",
    "from pyspark import SparkContext"
   ]
  },
  {
   "cell_type": "code",
   "execution_count": 2,
   "metadata": {},
   "outputs": [],
   "source": [
    "sc = SparkContext(\"local[*]\", \"MediaVarianza_1\")\n",
    "datos = sc.textFile(\"../../../datos/data_ok.csv\")"
   ]
  },
  {
   "cell_type": "code",
   "execution_count": 3,
   "metadata": {},
   "outputs": [],
   "source": [
    "cuartos = datos.map(lambda x: float(x.split(\" \")[3]))\n",
    "num     = cuartos.count()"
   ]
  },
  {
   "cell_type": "code",
   "execution_count": 4,
   "metadata": {},
   "outputs": [],
   "source": [
    "media    = cuartos.reduce(lambda x, y: x + y)/num\n",
    "varianza = cuartos.map(lambda x: ((x - media)**2)/num).reduce(lambda x, y: x + y)\n",
    "desviest = varianza ** 0.5"
   ]
  },
  {
   "cell_type": "code",
   "execution_count": 5,
   "metadata": {},
   "outputs": [
    {
     "name": "stdout",
     "output_type": "stream",
     "text": [
      "             ||      MEDIA         ||      VARIANZA     || DESV. EST. \n",
      " MI VERSIÓN: || 1409608.9152       || 5883755024032.185 || 2425645.27992701\n",
      " SPARK:      || 1409608.9152000018 || 5883755024032.196 || 2425645.279927013\n"
     ]
    }
   ],
   "source": [
    "print(\"             ||      MEDIA         ||      VARIANZA     || DESV. EST. \")\n",
    "print(\" MI VERSIÓN: || {}       || {} || {}\".format(media, varianza, desviest))\n",
    "print(\" SPARK:      || {} || {} || {}\".format(cuartos.mean(), cuartos.variance(), cuartos.stdev()))"
   ]
  }
 ],
 "metadata": {
  "kernelspec": {
   "display_name": "Python 3",
   "language": "python",
   "name": "python3"
  },
  "language_info": {
   "codemirror_mode": {
    "name": "ipython",
    "version": 3
   },
   "file_extension": ".py",
   "mimetype": "text/x-python",
   "name": "python",
   "nbconvert_exporter": "python",
   "pygments_lexer": "ipython3",
   "version": "3.7.1"
  }
 },
 "nbformat": 4,
 "nbformat_minor": 4
}
