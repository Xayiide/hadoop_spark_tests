{
 "cells": [
  {
   "cell_type": "code",
   "execution_count": 1,
   "metadata": {},
   "outputs": [],
   "source": [
    "import findspark\n",
    "findspark.init()\n",
    "import pyspark\n",
    "from pyspark import SparkContext\n",
    "import numpy as np\n",
    "import time"
   ]
  },
  {
   "cell_type": "code",
   "execution_count": 2,
   "metadata": {},
   "outputs": [],
   "source": [
    "sc    = SparkContext(\"local[*]\", \"MediaVarianza_2\")\n",
    "datos = sc.textFile(\"../../../datos/data_ok.csv\")\n",
    "# datos es un RDD con 5000 strings (cada uno es una fila del csv)"
   ]
  },
  {
   "cell_type": "code",
   "execution_count": 3,
   "metadata": {},
   "outputs": [
    {
     "name": "stdout",
     "output_type": "stream",
     "text": [
      "5000\n"
     ]
    }
   ],
   "source": [
    "num_col = len(datos.collect()[0].split(\" \"))\n",
    "if (num_col != 211):\n",
    "    print(\"ERROR EN EL CÁLCULO DE COLUMNAS\")\n",
    "num_filas = len(datos.collect())\n",
    "print(num_filas)"
   ]
  },
  {
   "cell_type": "code",
   "execution_count": 4,
   "metadata": {},
   "outputs": [],
   "source": [
    "def todas_columnas_lento():\n",
    "    \"\"\" Esta es la forma lenta de hacerla, sin vectorización.\"\"\"\n",
    "    now = time.time()\n",
    "    for i in range(0, num_col):\n",
    "        col = datos.map(lambda x: float(x.split(\" \")[i]))\n",
    "        num = col.count()\n",
    "        media = col.reduce(lambda x, y: x + y)/num\n",
    "        varia = col.map(lambda x: ((x - media)**2)/num).reduce(lambda x, y: x + y)\n",
    "        desvi = varia ** 0.5\n",
    "        print(\"{}: \".format(i), end='')\n",
    "        print(\"  media: {} || varianza: {} || desv. est.: {}\".format(media, varia, desvi))\n",
    "\n",
    "    then = time.time()\n",
    "    passed = then - now\n",
    "    print(\"Tiempo transcurrido: {} segundos\".format(passed)) # ~35 segundos"
   ]
  },
  {
   "cell_type": "code",
   "execution_count": 5,
   "metadata": {},
   "outputs": [
    {
     "name": "stdout",
     "output_type": "stream",
     "text": [
      "1409608.9152\n",
      "5883755024032.185\n",
      "2425645.27992701\n"
     ]
    }
   ],
   "source": [
    "def formato_fila(fila):\n",
    "    lista = [float(i) for i in fila.split(\" \")]\n",
    "    return np.array(lista)\n",
    "num     = datos.count() # 5000\n",
    "data_ok = datos.map(formato_fila) # data_ok es un RDD con 5000 np.arrays de floats\n",
    "\n",
    "medias    = data_ok.reduce(lambda x, y: x + y)/num # Array con las medias\n",
    "varianzas = data_ok.map(lambda x: ((x - medias)**2)/num).reduce(lambda x, y: x + y)\n",
    "desviests = varianzas ** 0.5\n",
    "\n",
    "# Para comparar con el ejercicio anterior\n",
    "print(medias[3])\n",
    "print(varianzas[3])\n",
    "print(desviests[3])"
   ]
  }
 ],
 "metadata": {
  "kernelspec": {
   "display_name": "Python 3",
   "language": "python",
   "name": "python3"
  },
  "language_info": {
   "codemirror_mode": {
    "name": "ipython",
    "version": 3
   },
   "file_extension": ".py",
   "mimetype": "text/x-python",
   "name": "python",
   "nbconvert_exporter": "python",
   "pygments_lexer": "ipython3",
   "version": "3.7.1"
  }
 },
 "nbformat": 4,
 "nbformat_minor": 4
}
