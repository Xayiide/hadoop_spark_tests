{
 "cells": [
  {
   "cell_type": "code",
   "execution_count": 1,
   "metadata": {},
   "outputs": [],
   "source": [
    "import findspark\n",
    "findspark.init()\n",
    "import pyspark\n",
    "from pyspark import SparkContext\n",
    "sc = SparkContext(\"local[*]\", \"1_map_reduce\") "
   ]
  },
  {
   "cell_type": "code",
   "execution_count": 2,
   "metadata": {
    "scrolled": false
   },
   "outputs": [
    {
     "name": "stdout",
     "output_type": "stream",
     "text": [
      "[1, 2, 3, 4, 5, 8]\n",
      "[8, 5, 4, 3, 2, 1]\n"
     ]
    }
   ],
   "source": [
    "rdd1 = sc.parallelize([1,2,3,4,5,8])\n",
    "rdd2 = sc.parallelize([8,5,4,3,2,1])\n",
    "print(rdd1.collect())\n",
    "print(rdd2.collect())"
   ]
  },
  {
   "cell_type": "code",
   "execution_count": 3,
   "metadata": {},
   "outputs": [
    {
     "name": "stdout",
     "output_type": "stream",
     "text": [
      "sums: 23 23\n",
      "divs: 0.6 1.0666666666666667\n"
     ]
    }
   ],
   "source": [
    "sum1 = rdd1.reduce(lambda x,y: x+y)\n",
    "sum2 = rdd2.reduce(lambda x,y: x+y)\n",
    "print(\"sums:\", sum1, sum2)\n",
    "div1 = rdd1.reduce(lambda x,y: x/y)\n",
    "div2 = rdd2.reduce(lambda x,y: x/y)\n",
    "print(\"divs:\", div1, div2)"
   ]
  },
  {
   "cell_type": "code",
   "execution_count": 4,
   "metadata": {},
   "outputs": [],
   "source": [
    "sc.stop()"
   ]
  }
 ],
 "metadata": {
  "kernelspec": {
   "display_name": "Python 3",
   "language": "python",
   "name": "python3"
  },
  "language_info": {
   "codemirror_mode": {
    "name": "ipython",
    "version": 3
   },
   "file_extension": ".py",
   "mimetype": "text/x-python",
   "name": "python",
   "nbconvert_exporter": "python",
   "pygments_lexer": "ipython3",
   "version": "3.7.1"
  }
 },
 "nbformat": 4,
 "nbformat_minor": 4
}
