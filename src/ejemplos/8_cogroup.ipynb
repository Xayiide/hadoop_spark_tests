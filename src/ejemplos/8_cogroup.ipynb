{
 "cells": [
  {
   "cell_type": "code",
   "execution_count": 1,
   "metadata": {},
   "outputs": [],
   "source": [
    "import findspark\n",
    "findspark.init()\n",
    "import pyspark\n",
    "from pyspark import SparkContext\n",
    "sc = SparkContext(\"local[*]\", \"8_cogroup\")"
   ]
  },
  {
   "cell_type": "code",
   "execution_count": 2,
   "metadata": {},
   "outputs": [
    {
     "name": "stdout",
     "output_type": "stream",
     "text": [
      "[(1, 1), (1, 3)]\n",
      "[(1, 5), (2, 2)]\n"
     ]
    }
   ],
   "source": [
    "elem1 = [(1, 1), (1, 3)]\n",
    "elem2 = [(1, 5), (2, 2)]\n",
    "rdd1 = sc.parallelize(elem1)\n",
    "rdd2 = sc.parallelize(elem2)\n",
    "print(rdd1.collect())\n",
    "print(rdd2.collect())"
   ]
  },
  {
   "cell_type": "code",
   "execution_count": 3,
   "metadata": {},
   "outputs": [
    {
     "data": {
      "text/plain": [
       "[(1,\n",
       "  (<pyspark.resultiterable.ResultIterable at 0xafd4c68c>,\n",
       "   <pyspark.resultiterable.ResultIterable at 0xafd4c78c>)),\n",
       " (2,\n",
       "  (<pyspark.resultiterable.ResultIterable at 0xafd4c58c>,\n",
       "   <pyspark.resultiterable.ResultIterable at 0xafd4c56c>))]"
      ]
     },
     "execution_count": 3,
     "metadata": {},
     "output_type": "execute_result"
    }
   ],
   "source": [
    "cogrupo = rdd1.cogroup(rdd2)\n",
    "cogrupo.collect() # [(1,([1,3],[5])), (2,([], [2]))]"
   ]
  },
  {
   "cell_type": "code",
   "execution_count": 4,
   "metadata": {},
   "outputs": [],
   "source": [
    "sc.stop()"
   ]
  }
 ],
 "metadata": {
  "kernelspec": {
   "display_name": "Python 3",
   "language": "python",
   "name": "python3"
  },
  "language_info": {
   "codemirror_mode": {
    "name": "ipython",
    "version": 3
   },
   "file_extension": ".py",
   "mimetype": "text/x-python",
   "name": "python",
   "nbconvert_exporter": "python",
   "pygments_lexer": "ipython3",
   "version": "3.7.1"
  }
 },
 "nbformat": 4,
 "nbformat_minor": 4
}
